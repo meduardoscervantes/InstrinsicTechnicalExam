{
 "cells": [
  {
   "cell_type": "code",
   "execution_count": 1,
   "metadata": {},
   "outputs": [],
   "source": [
    "import pandas as pd\n",
    "import requests\n",
    "import config\n",
    "import json\n",
    "import numpy as np"
   ]
  },
  {
   "cell_type": "code",
   "execution_count": 2,
   "metadata": {},
   "outputs": [
    {
     "data": {
      "text/html": [
       "<div>\n",
       "<style scoped>\n",
       "    .dataframe tbody tr th:only-of-type {\n",
       "        vertical-align: middle;\n",
       "    }\n",
       "\n",
       "    .dataframe tbody tr th {\n",
       "        vertical-align: top;\n",
       "    }\n",
       "\n",
       "    .dataframe thead th {\n",
       "        text-align: right;\n",
       "    }\n",
       "</style>\n",
       "<table border=\"1\" class=\"dataframe\">\n",
       "  <thead>\n",
       "    <tr style=\"text-align: right;\">\n",
       "      <th></th>\n",
       "      <th>school_name</th>\n",
       "      <th>lat</th>\n",
       "      <th>lng</th>\n",
       "      <th>form_addy</th>\n",
       "      <th>actual_name</th>\n",
       "    </tr>\n",
       "  </thead>\n",
       "  <tbody>\n",
       "    <tr>\n",
       "      <th>0</th>\n",
       "      <td>ADDAMS</td>\n",
       "      <td>41.857052</td>\n",
       "      <td>-87.644926</td>\n",
       "      <td>1814 S Union Ave, Chicago, IL 60616, United St...</td>\n",
       "      <td>Jane Addams High School</td>\n",
       "    </tr>\n",
       "    <tr>\n",
       "      <th>1</th>\n",
       "      <td>AIR FORCE HS</td>\n",
       "      <td>41.828009</td>\n",
       "      <td>-87.632846</td>\n",
       "      <td>3630 S Wells St, Chicago, IL 60609, United States</td>\n",
       "      <td>Air Force Academy High School</td>\n",
       "    </tr>\n",
       "    <tr>\n",
       "      <th>2</th>\n",
       "      <td>ALBANY PARK</td>\n",
       "      <td>41.971105</td>\n",
       "      <td>-87.709609</td>\n",
       "      <td>4929 N Sawyer Ave, Chicago, IL 60625, United S...</td>\n",
       "      <td>Albany Park Multicultural Academy</td>\n",
       "    </tr>\n",
       "    <tr>\n",
       "      <th>3</th>\n",
       "      <td>ALCOTT ES</td>\n",
       "      <td>41.929648</td>\n",
       "      <td>-87.645971</td>\n",
       "      <td>2625 N Orchard St, Chicago, IL 60614, United S...</td>\n",
       "      <td>Alcott Elementary School</td>\n",
       "    </tr>\n",
       "    <tr>\n",
       "      <th>4</th>\n",
       "      <td>ALCOTT HS</td>\n",
       "      <td>41.935756</td>\n",
       "      <td>-87.680521</td>\n",
       "      <td>2957 N Hoyne Ave, Chicago, IL 60618, United St...</td>\n",
       "      <td>Alcott College Prep</td>\n",
       "    </tr>\n",
       "  </tbody>\n",
       "</table>\n",
       "</div>"
      ],
      "text/plain": [
       "    school_name        lat        lng  \\\n",
       "0        ADDAMS  41.857052 -87.644926   \n",
       "1  AIR FORCE HS  41.828009 -87.632846   \n",
       "2   ALBANY PARK  41.971105 -87.709609   \n",
       "3     ALCOTT ES  41.929648 -87.645971   \n",
       "4     ALCOTT HS  41.935756 -87.680521   \n",
       "\n",
       "                                           form_addy  \\\n",
       "0  1814 S Union Ave, Chicago, IL 60616, United St...   \n",
       "1  3630 S Wells St, Chicago, IL 60609, United States   \n",
       "2  4929 N Sawyer Ave, Chicago, IL 60625, United S...   \n",
       "3  2625 N Orchard St, Chicago, IL 60614, United S...   \n",
       "4  2957 N Hoyne Ave, Chicago, IL 60618, United St...   \n",
       "\n",
       "                         actual_name  \n",
       "0            Jane Addams High School  \n",
       "1      Air Force Academy High School  \n",
       "2  Albany Park Multicultural Academy  \n",
       "3           Alcott Elementary School  \n",
       "4                Alcott College Prep  "
      ]
     },
     "execution_count": 2,
     "metadata": {},
     "output_type": "execute_result"
    }
   ],
   "source": [
    "df = pd.read_csv('resources/csv/googled_school_data.csv')\n",
    "df.head()"
   ]
  },
  {
   "cell_type": "code",
   "execution_count": 3,
   "metadata": {},
   "outputs": [
    {
     "data": {
      "text/plain": [
       "1"
      ]
     },
     "execution_count": 3,
     "metadata": {},
     "output_type": "execute_result"
    }
   ],
   "source": [
    "df['form_addy'].isnull().sum()"
   ]
  },
  {
   "cell_type": "code",
   "execution_count": 4,
   "metadata": {},
   "outputs": [
    {
     "data": {
      "text/plain": [
       "648"
      ]
     },
     "execution_count": 4,
     "metadata": {},
     "output_type": "execute_result"
    }
   ],
   "source": [
    "len(df)"
   ]
  },
  {
   "cell_type": "code",
   "execution_count": 5,
   "metadata": {},
   "outputs": [
    {
     "data": {
      "text/plain": [
       "647"
      ]
     },
     "execution_count": 5,
     "metadata": {},
     "output_type": "execute_result"
    }
   ],
   "source": [
    "len(df.dropna().copy())"
   ]
  },
  {
   "cell_type": "code",
   "execution_count": 6,
   "metadata": {},
   "outputs": [
    {
     "name": "stdout",
     "output_type": "stream",
     "text": [
      "647\n"
     ]
    },
    {
     "data": {
      "text/html": [
       "<div>\n",
       "<style scoped>\n",
       "    .dataframe tbody tr th:only-of-type {\n",
       "        vertical-align: middle;\n",
       "    }\n",
       "\n",
       "    .dataframe tbody tr th {\n",
       "        vertical-align: top;\n",
       "    }\n",
       "\n",
       "    .dataframe thead th {\n",
       "        text-align: right;\n",
       "    }\n",
       "</style>\n",
       "<table border=\"1\" class=\"dataframe\">\n",
       "  <thead>\n",
       "    <tr style=\"text-align: right;\">\n",
       "      <th></th>\n",
       "      <th>school_name</th>\n",
       "      <th>lat</th>\n",
       "      <th>lng</th>\n",
       "      <th>form_addy</th>\n",
       "      <th>actual_name</th>\n",
       "    </tr>\n",
       "  </thead>\n",
       "  <tbody>\n",
       "    <tr>\n",
       "      <th>0</th>\n",
       "      <td>ADDAMS</td>\n",
       "      <td>41.857052</td>\n",
       "      <td>-87.644926</td>\n",
       "      <td>1814 S Union Ave, Chicago, IL 60616, United St...</td>\n",
       "      <td>Jane Addams High School</td>\n",
       "    </tr>\n",
       "    <tr>\n",
       "      <th>1</th>\n",
       "      <td>AIR FORCE HS</td>\n",
       "      <td>41.828009</td>\n",
       "      <td>-87.632846</td>\n",
       "      <td>3630 S Wells St, Chicago, IL 60609, United States</td>\n",
       "      <td>Air Force Academy High School</td>\n",
       "    </tr>\n",
       "    <tr>\n",
       "      <th>2</th>\n",
       "      <td>ALBANY PARK</td>\n",
       "      <td>41.971105</td>\n",
       "      <td>-87.709609</td>\n",
       "      <td>4929 N Sawyer Ave, Chicago, IL 60625, United S...</td>\n",
       "      <td>Albany Park Multicultural Academy</td>\n",
       "    </tr>\n",
       "    <tr>\n",
       "      <th>3</th>\n",
       "      <td>ALCOTT ES</td>\n",
       "      <td>41.929648</td>\n",
       "      <td>-87.645971</td>\n",
       "      <td>2625 N Orchard St, Chicago, IL 60614, United S...</td>\n",
       "      <td>Alcott Elementary School</td>\n",
       "    </tr>\n",
       "    <tr>\n",
       "      <th>4</th>\n",
       "      <td>ALCOTT HS</td>\n",
       "      <td>41.935756</td>\n",
       "      <td>-87.680521</td>\n",
       "      <td>2957 N Hoyne Ave, Chicago, IL 60618, United St...</td>\n",
       "      <td>Alcott College Prep</td>\n",
       "    </tr>\n",
       "  </tbody>\n",
       "</table>\n",
       "</div>"
      ],
      "text/plain": [
       "    school_name        lat        lng  \\\n",
       "0        ADDAMS  41.857052 -87.644926   \n",
       "1  AIR FORCE HS  41.828009 -87.632846   \n",
       "2   ALBANY PARK  41.971105 -87.709609   \n",
       "3     ALCOTT ES  41.929648 -87.645971   \n",
       "4     ALCOTT HS  41.935756 -87.680521   \n",
       "\n",
       "                                           form_addy  \\\n",
       "0  1814 S Union Ave, Chicago, IL 60616, United St...   \n",
       "1  3630 S Wells St, Chicago, IL 60609, United States   \n",
       "2  4929 N Sawyer Ave, Chicago, IL 60625, United S...   \n",
       "3  2625 N Orchard St, Chicago, IL 60614, United S...   \n",
       "4  2957 N Hoyne Ave, Chicago, IL 60618, United St...   \n",
       "\n",
       "                         actual_name  \n",
       "0            Jane Addams High School  \n",
       "1      Air Force Academy High School  \n",
       "2  Albany Park Multicultural Academy  \n",
       "3           Alcott Elementary School  \n",
       "4                Alcott College Prep  "
      ]
     },
     "execution_count": 6,
     "metadata": {},
     "output_type": "execute_result"
    }
   ],
   "source": [
    "clean_df = df.dropna().copy()\n",
    "print(len(clean_df))\n",
    "clean_df.head()"
   ]
  },
  {
   "cell_type": "code",
   "execution_count": 7,
   "metadata": {},
   "outputs": [
    {
     "data": {
      "text/html": [
       "<div>\n",
       "<style scoped>\n",
       "    .dataframe tbody tr th:only-of-type {\n",
       "        vertical-align: middle;\n",
       "    }\n",
       "\n",
       "    .dataframe tbody tr th {\n",
       "        vertical-align: top;\n",
       "    }\n",
       "\n",
       "    .dataframe thead th {\n",
       "        text-align: right;\n",
       "    }\n",
       "</style>\n",
       "<table border=\"1\" class=\"dataframe\">\n",
       "  <thead>\n",
       "    <tr style=\"text-align: right;\">\n",
       "      <th></th>\n",
       "      <th>school_name</th>\n",
       "      <th>lat</th>\n",
       "      <th>lng</th>\n",
       "      <th>form_addy</th>\n",
       "      <th>actual_name</th>\n",
       "    </tr>\n",
       "  </thead>\n",
       "  <tbody>\n",
       "    <tr>\n",
       "      <th>0</th>\n",
       "      <td>ADDAMS</td>\n",
       "      <td>41.857052</td>\n",
       "      <td>-87.644926</td>\n",
       "      <td>1814 S Union Ave, Chicago, IL 60616, United St...</td>\n",
       "      <td>Jane Addams High School</td>\n",
       "    </tr>\n",
       "    <tr>\n",
       "      <th>1</th>\n",
       "      <td>AIR FORCE HS</td>\n",
       "      <td>41.828009</td>\n",
       "      <td>-87.632846</td>\n",
       "      <td>3630 S Wells St, Chicago, IL 60609, United States</td>\n",
       "      <td>Air Force Academy High School</td>\n",
       "    </tr>\n",
       "    <tr>\n",
       "      <th>2</th>\n",
       "      <td>ALBANY PARK</td>\n",
       "      <td>41.971105</td>\n",
       "      <td>-87.709609</td>\n",
       "      <td>4929 N Sawyer Ave, Chicago, IL 60625, United S...</td>\n",
       "      <td>Albany Park Multicultural Academy</td>\n",
       "    </tr>\n",
       "    <tr>\n",
       "      <th>3</th>\n",
       "      <td>ALCOTT ES</td>\n",
       "      <td>41.929648</td>\n",
       "      <td>-87.645971</td>\n",
       "      <td>2625 N Orchard St, Chicago, IL 60614, United S...</td>\n",
       "      <td>Alcott Elementary School</td>\n",
       "    </tr>\n",
       "    <tr>\n",
       "      <th>4</th>\n",
       "      <td>ALCOTT HS</td>\n",
       "      <td>41.935756</td>\n",
       "      <td>-87.680521</td>\n",
       "      <td>2957 N Hoyne Ave, Chicago, IL 60618, United St...</td>\n",
       "      <td>Alcott College Prep</td>\n",
       "    </tr>\n",
       "    <tr>\n",
       "      <th>...</th>\n",
       "      <td>...</td>\n",
       "      <td>...</td>\n",
       "      <td>...</td>\n",
       "      <td>...</td>\n",
       "      <td>...</td>\n",
       "    </tr>\n",
       "    <tr>\n",
       "      <th>643</th>\n",
       "      <td>OMBUDSMAN - WEST HS</td>\n",
       "      <td>41.874854</td>\n",
       "      <td>-87.686579</td>\n",
       "      <td>2401 W Congress Pkwy, Chicago, IL 60612, Unite...</td>\n",
       "      <td>Ombudsman Chicago West Campus</td>\n",
       "    </tr>\n",
       "    <tr>\n",
       "      <th>644</th>\n",
       "      <td>PATHWAYS - ASHBURN HS</td>\n",
       "      <td>41.736496</td>\n",
       "      <td>-87.705658</td>\n",
       "      <td>3284 W 87th St, Chicago, IL 60652, United States</td>\n",
       "      <td>Pathways In Education - Illinois</td>\n",
       "    </tr>\n",
       "    <tr>\n",
       "      <th>645</th>\n",
       "      <td>PATHWAYS - AVONDALE HS</td>\n",
       "      <td>41.939526</td>\n",
       "      <td>-87.705341</td>\n",
       "      <td>3100 W Belmont Ave, Chicago, IL 60618, United ...</td>\n",
       "      <td>Pathways In Education - Illinois</td>\n",
       "    </tr>\n",
       "    <tr>\n",
       "      <th>646</th>\n",
       "      <td>PATHWAYS - BRIGHTON PARK HS</td>\n",
       "      <td>41.808251</td>\n",
       "      <td>-87.702320</td>\n",
       "      <td>3124 W 47th St, Chicago, IL 60632, United States</td>\n",
       "      <td>Pathways In Education</td>\n",
       "    </tr>\n",
       "    <tr>\n",
       "      <th>647</th>\n",
       "      <td>PATHWAYS - HUMBOLDT PARK HS</td>\n",
       "      <td>41.902694</td>\n",
       "      <td>-87.687963</td>\n",
       "      <td>2421 W Division St, Chicago, IL 60622, United ...</td>\n",
       "      <td>Pathways In Education -Humboldt Park</td>\n",
       "    </tr>\n",
       "  </tbody>\n",
       "</table>\n",
       "<p>617 rows × 5 columns</p>\n",
       "</div>"
      ],
      "text/plain": [
       "                     school_name        lat        lng  \\\n",
       "0                         ADDAMS  41.857052 -87.644926   \n",
       "1                   AIR FORCE HS  41.828009 -87.632846   \n",
       "2                    ALBANY PARK  41.971105 -87.709609   \n",
       "3                      ALCOTT ES  41.929648 -87.645971   \n",
       "4                      ALCOTT HS  41.935756 -87.680521   \n",
       "..                           ...        ...        ...   \n",
       "643          OMBUDSMAN - WEST HS  41.874854 -87.686579   \n",
       "644        PATHWAYS - ASHBURN HS  41.736496 -87.705658   \n",
       "645       PATHWAYS - AVONDALE HS  41.939526 -87.705341   \n",
       "646  PATHWAYS - BRIGHTON PARK HS  41.808251 -87.702320   \n",
       "647  PATHWAYS - HUMBOLDT PARK HS  41.902694 -87.687963   \n",
       "\n",
       "                                             form_addy  \\\n",
       "0    1814 S Union Ave, Chicago, IL 60616, United St...   \n",
       "1    3630 S Wells St, Chicago, IL 60609, United States   \n",
       "2    4929 N Sawyer Ave, Chicago, IL 60625, United S...   \n",
       "3    2625 N Orchard St, Chicago, IL 60614, United S...   \n",
       "4    2957 N Hoyne Ave, Chicago, IL 60618, United St...   \n",
       "..                                                 ...   \n",
       "643  2401 W Congress Pkwy, Chicago, IL 60612, Unite...   \n",
       "644   3284 W 87th St, Chicago, IL 60652, United States   \n",
       "645  3100 W Belmont Ave, Chicago, IL 60618, United ...   \n",
       "646   3124 W 47th St, Chicago, IL 60632, United States   \n",
       "647  2421 W Division St, Chicago, IL 60622, United ...   \n",
       "\n",
       "                              actual_name  \n",
       "0                 Jane Addams High School  \n",
       "1           Air Force Academy High School  \n",
       "2       Albany Park Multicultural Academy  \n",
       "3                Alcott Elementary School  \n",
       "4                     Alcott College Prep  \n",
       "..                                    ...  \n",
       "643         Ombudsman Chicago West Campus  \n",
       "644      Pathways In Education - Illinois  \n",
       "645      Pathways In Education - Illinois  \n",
       "646                 Pathways In Education  \n",
       "647  Pathways In Education -Humboldt Park  \n",
       "\n",
       "[617 rows x 5 columns]"
      ]
     },
     "execution_count": 7,
     "metadata": {},
     "output_type": "execute_result"
    }
   ],
   "source": [
    "clean_df[clean_df['form_addy'].str.contains('Chicago')]"
   ]
  },
  {
   "cell_type": "code",
   "execution_count": null,
   "metadata": {},
   "outputs": [],
   "source": []
  }
 ],
 "metadata": {
  "kernelspec": {
   "display_name": "base",
   "language": "python",
   "name": "python3"
  },
  "language_info": {
   "codemirror_mode": {
    "name": "ipython",
    "version": 3
   },
   "file_extension": ".py",
   "mimetype": "text/x-python",
   "name": "python",
   "nbconvert_exporter": "python",
   "pygments_lexer": "ipython3",
   "version": "3.9.7"
  },
  "orig_nbformat": 4,
  "vscode": {
   "interpreter": {
    "hash": "3f542bb704b491dbc8aaf1b698f259a9ba6defffb593dedf0160812707340631"
   }
  }
 },
 "nbformat": 4,
 "nbformat_minor": 2
}
